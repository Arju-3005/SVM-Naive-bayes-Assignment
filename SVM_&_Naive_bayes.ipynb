{
  "nbformat": 4,
  "nbformat_minor": 0,
  "metadata": {
    "colab": {
      "provenance": []
    },
    "kernelspec": {
      "name": "python3",
      "display_name": "Python 3"
    },
    "language_info": {
      "name": "python"
    }
  },
  "cells": [
    {
      "cell_type": "markdown",
      "source": [
        "**Theoretical**\n"
      ],
      "metadata": {
        "id": "1062PsHFcjLk"
      }
    },
    {
      "cell_type": "markdown",
      "source": [
        "1. What is a Support Vector Machine (SVM)?\n",
        "\n",
        "   - SVM is a supervised machine learning algorithm used for classification and regression. It finds the optimal hyperplane that best separates data points of different classes by maximizing the margin between them.\n",
        "2. What is the difference between Hard Margin and Soft Margin SVM?\n",
        "\n",
        "     - Hard Margin SVM assumes data is perfectly linearly separable and allows no misclassification, while Soft Margin SVM allows some errors using a penalty parameter (C) to handle noisy or overlapping data for better generalization.\n",
        "3. What is the mathematical intuition behind SVM?\n",
        "\n",
        "    -  SVM tries to maximize the distance (margin) between classes using the equation\n",
        "𝑦\n",
        "𝑖\n",
        "(\n",
        "𝑤\n",
        "⋅\n",
        "𝑥\n",
        "𝑖\n",
        "+\n",
        "𝑏\n",
        ")\n",
        "≥\n",
        "1\n",
        "y\n",
        "i\n",
        "\t​\n",
        "\n",
        "(w⋅x\n",
        "i\n",
        "\t​\n",
        "\n",
        "+b)≥1. Maximizing the margin improves model generalization and reduces classification error.\n",
        "4. What is the role of Lagrange Multipliers in SVM?\n",
        "\n",
        "   -  Lagrange multipliers help convert the constrained optimization problem into an unconstrained one (dual form), allowing efficient computation and identification of support vectors that define the decision boundary.\n",
        "5. What are Support Vectors in SVM?\n",
        "\n",
        "   -  Support vectors are the data points closest to the decision boundary. They are critical in determining the optimal hyperplane — removing them would change the boundary, unlike other points.\n",
        "6. What is a Support Vector Classifier (SVC)?\n",
        "\n",
        "   - SVC is an SVM used for classification tasks. It can be linear or non-linear depending on the kernel used and separates classes with the maximum possible margin.\n",
        "7. What is a Support Vector Regressor (SVR)?\n",
        "\n",
        "   - SVR applies SVM principles to regression problems by fitting data within an ε-tube (margin of tolerance) while minimizing error outside that region.\n",
        "8. What is the Kernel Trick in SVM?\n",
        "\n",
        "   - The Kernel Trick allows SVM to perform non-linear classification by mapping input data into a higher-dimensional space using kernel functions like Linear, Polynomial, or RBF, without explicitly computing the transformation.\n",
        "9. Compare Linear Kernel, Polynomial Kernel, and RBF Kernel.\n",
        "\n",
        "     - Linear Kernel: Works for linearly separable data.\n",
        "\n",
        "      Polynomial Kernel: Creates curved boundaries; good for moderate complexity.\n",
        "\n",
        "     RBF Kernel: Maps data to infinite dimensions; best for highly non-linear relationships.\n",
        "10. What is the effect of the C parameter in SVM?\n",
        "\n",
        "     -  C controls the trade-off between maximizing the margin and minimizing classification error. A high C fits the training data more strictly, while a low C allows a wider margin and better generalization.\n",
        "11. What is the role of the Gamma parameter in RBF Kernel SVM?\n",
        "\n",
        "    -  Gamma defines how far the influence of a training point reaches. A high gamma fits the training data closely (risk of overfitting), while a low gamma creates smoother, more generalized boundaries.\n",
        "12. What is the Naïve Bayes classifier, and why is it called \"Naïve\"?\n",
        "\n",
        "    -  Naïve Bayes is a probabilistic classifier based on Bayes’ Theorem, assuming that all features are independent of each other. It’s called “naïve” because this assumption rarely holds true in real-world data.\n",
        "13. What is Bayes’ Theorem?\n",
        "\n",
        "    -  Bayes’ Theorem calculates the probability of a hypothesis based on prior knowledge:\n",
        "\n",
        "𝑃\n",
        "(\n",
        "𝐴\n",
        "∣\n",
        "𝐵\n",
        ")\n",
        "=\n",
        "𝑃\n",
        "(\n",
        "𝐵\n",
        "∣\n",
        "𝐴\n",
        ")\n",
        "×\n",
        "𝑃\n",
        "(\n",
        "𝐴\n",
        ")\n",
        "𝑃\n",
        "(\n",
        "𝐵\n",
        ")\n",
        "P(A∣B)=\n",
        "P(B)\n",
        "P(B∣A)×P(A)\n",
        "\t​\n",
        "\n",
        "\n",
        "It’s used to update probabilities as new evidence is introduced.\n",
        "14. Explain the differences between Gaussian Naïve Bayes, Multinomial  Naïve   Bayes, and Bernoulli Naïve Bayes\n",
        "\n",
        "  - Gaussian: For continuous features with normal distribution.\n",
        "\n",
        "Multinomial: For count-based data like word frequencies.\n",
        "\n",
        "Bernoulli: For binary data (e.g., word present or not).\n",
        "15. When should you use Gaussian Naïve Bayes over other variants?\n",
        "\n",
        "  - Use Gaussian Naïve Bayes when the dataset features are continuous and approximately follow a normal (Gaussian) distribution.\n",
        "16. What are the key assumptions made by Naïve Bayes?\n",
        "\n",
        "    -  Naïve Bayes assumes that all features are conditionally independent given the class label and that each feature contributes equally to the final prediction.\n",
        "17. What are the advantages and disadvantages of Naïve Bayes?\n",
        "\n",
        "    -  Advantages: Fast, simple, works well on small or high-dimensional datasets.\n",
        "    - Disadvantages: Assumes independence, performs poorly when features are correlated.\n",
        "18. Why is Naïve Bayes a good choice for text classification?\n",
        "\n",
        "    - It efficiently handles high-dimensional, sparse text data and performs well because word occurrences are nearly independent, matching Naïve Bayes’ assumptions.\n",
        "19. Compare SVM and Naïve Bayes for classification tasks .\n",
        "\n",
        "    -   SVM is a discriminative model that finds an optimal decision boundary, performing well on complex data. Naïve Bayes is a generative model that’s faster, easier to train, and better for text or categorical data.\n",
        "20. How does Laplace Smoothing help in Naïve Bayes?\n",
        "     -  Laplace Smoothing prevents zero probabilities for unseen words by adding 1 to word frequency counts, ensuring all probabilities remain non-zero during classification."
      ],
      "metadata": {
        "id": "G0YvcpTEYhHi"
      }
    },
    {
      "cell_type": "markdown",
      "source": [
        "**Practical**"
      ],
      "metadata": {
        "id": "xc4nvGJkcvoq"
      }
    },
    {
      "cell_type": "markdown",
      "source": [
        "# **Practical**"
      ],
      "metadata": {
        "id": "JrL3mC0qc4uS"
      }
    },
    {
      "cell_type": "markdown",
      "source": [
        "21. Write a Python program to train an SVM Classifier on the Iris dataset and evaluate accuracy."
      ],
      "metadata": {
        "id": "qBXTm7MJv7I3"
      }
    },
    {
      "cell_type": "code",
      "source": [
        "from sklearn import datasets\n",
        "from sklearn.model_selection import train_test_split\n",
        "from sklearn.svm import SVC\n",
        "from sklearn.metrics import accuracy_score\n",
        "\n",
        "# Load dataset\n",
        "iris = datasets.load_iris()\n",
        "X, y = iris.data, iris.target\n",
        "\n",
        "# Split data\n",
        "X_train, X_test, y_train, y_test = train_test_split(X, y, test_size=0.2, random_state=42)\n",
        "\n",
        "# Train SVM Classifier\n",
        "model = SVC(kernel='linear')\n",
        "model.fit(X_train, y_train)\n",
        "\n",
        "# Predict and evaluate\n",
        "y_pred = model.predict(X_test)\n",
        "print(\"SVM Accuracy on Iris dataset:\", accuracy_score(y_test, y_pred))\n"
      ],
      "metadata": {
        "colab": {
          "base_uri": "https://localhost:8080/"
        },
        "id": "l0-chn6ZwRZW",
        "outputId": "a4eb97c8-506b-41a0-803d-372c09ba818d"
      },
      "execution_count": 1,
      "outputs": [
        {
          "output_type": "stream",
          "name": "stdout",
          "text": [
            "SVM Accuracy on Iris dataset: 1.0\n"
          ]
        }
      ]
    },
    {
      "cell_type": "markdown",
      "source": [
        "22. Write a Python program to train two SVM classifiers with Linear and RBF kernels on the Wine dataset, then\n",
        "compare their accuracies."
      ],
      "metadata": {
        "id": "e5zN3iZQwZvw"
      }
    },
    {
      "cell_type": "code",
      "source": [
        "from sklearn.datasets import load_wine\n",
        "from sklearn.model_selection import train_test_split\n",
        "from sklearn.svm import SVC\n",
        "from sklearn.metrics import accuracy_score\n",
        "\n",
        "# Load dataset\n",
        "wine = load_wine()\n",
        "X, y = wine.data, wine.target\n",
        "\n",
        "# Split data\n",
        "X_train, X_test, y_train, y_test = train_test_split(X, y, test_size=0.2, random_state=42)\n",
        "\n",
        "# Linear Kernel\n",
        "linear_svm = SVC(kernel='linear')\n",
        "linear_svm.fit(X_train, y_train)\n",
        "linear_acc = accuracy_score(y_test, linear_svm.predict(X_test))\n",
        "\n",
        "# RBF Kernel\n",
        "rbf_svm = SVC(kernel='rbf')\n",
        "rbf_svm.fit(X_train, y_train)\n",
        "rbf_acc = accuracy_score(y_test, rbf_svm.predict(X_test))\n",
        "\n",
        "print(\"Linear Kernel Accuracy:\", linear_acc)\n",
        "print(\"RBF Kernel Accuracy:\", rbf_acc)\n"
      ],
      "metadata": {
        "colab": {
          "base_uri": "https://localhost:8080/"
        },
        "id": "fSgsDlFtwfJ1",
        "outputId": "f31d716e-30c9-43c1-c5f2-f646b92ee81f"
      },
      "execution_count": 2,
      "outputs": [
        {
          "output_type": "stream",
          "name": "stdout",
          "text": [
            "Linear Kernel Accuracy: 1.0\n",
            "RBF Kernel Accuracy: 0.8055555555555556\n"
          ]
        }
      ]
    },
    {
      "cell_type": "markdown",
      "source": [
        "23. Write a Python program to train an SVM Regressor (SVR) on a housing dataset and evaluate it using Mean\n",
        "Squared Error (MSE)."
      ],
      "metadata": {
        "id": "WYPP0kNwwrVE"
      }
    },
    {
      "cell_type": "code",
      "source": [
        "from sklearn.datasets import fetch_california_housing\n",
        "from sklearn.model_selection import train_test_split\n",
        "from sklearn.svm import SVR\n",
        "from sklearn.metrics import mean_squared_error\n",
        "\n",
        "# Load dataset\n",
        "housing = fetch_california_housing()\n",
        "X, y = housing.data, housing.target\n",
        "\n",
        "# Split data\n",
        "X_train, X_test, y_train, y_test = train_test_split(X, y, test_size=0.2, random_state=42)\n",
        "\n",
        "# Train SVR model\n",
        "model = SVR(kernel='rbf')\n",
        "model.fit(X_train, y_train)\n",
        "\n",
        "# Predict and evaluate\n",
        "y_pred = model.predict(X_test)\n",
        "mse = mean_squared_error(y_test, y_pred)\n",
        "print(\"Mean Squared Error (SVR):\", mse)\n"
      ],
      "metadata": {
        "colab": {
          "base_uri": "https://localhost:8080/"
        },
        "id": "SJKQlCfpwzHH",
        "outputId": "6e4de570-215f-422f-d4d7-33797db2bec1"
      },
      "execution_count": 3,
      "outputs": [
        {
          "output_type": "stream",
          "name": "stdout",
          "text": [
            "Mean Squared Error (SVR): 1.3320115421348744\n"
          ]
        }
      ]
    },
    {
      "cell_type": "markdown",
      "source": [
        "24.  Write a Python program to train an SVM Classifier with a Polynomial Kernel and visualize the decision\n",
        "boundary."
      ],
      "metadata": {
        "id": "JJGbgaB4w6gw"
      }
    },
    {
      "cell_type": "code",
      "source": [
        "import numpy as np\n",
        "import matplotlib.pyplot as plt\n",
        "from sklearn import datasets\n",
        "from sklearn.svm import SVC\n",
        "\n",
        "# Load dataset (2 features for visualization)\n",
        "X, y = datasets.make_classification(n_features=2, n_redundant=0, n_informative=2,\n",
        "                                    n_clusters_per_class=1, n_samples=100, random_state=42)\n",
        "\n",
        "# Train SVM with polynomial kernel\n",
        "clf = SVC(kernel='poly', degree=3)\n",
        "clf.fit(X, y)\n",
        "\n",
        "# Plot decision boundary\n",
        "x_min, x_max = X[:, 0].min() - 1, X[:, 0].max() + 1\n",
        "y_min, y_max = X[:, 1].min() - 1, X[:, 1].max() + 1\n",
        "xx, yy = np.meshgrid(np.linspace(x_min, x_max, 200), np.linspace(y_min, y_max, 200))\n",
        "Z = clf.predict(np.c_[xx.ravel(), yy.ravel()])\n",
        "Z = Z.reshape(xx.shape)\n",
        "\n",
        "plt.contourf(xx, yy, Z, alpha=0.3)\n",
        "plt.scatter(X[:, 0], X[:, 1], c=y, edgecolors='k', cmap=plt.cm.coolwarm)\n",
        "plt.title(\"SVM with Polynomial Kernel (degree=3)\")\n",
        "plt.xlabel(\"Feature 1\")\n",
        "plt.ylabel(\"Feature 2\")\n",
        "plt.show()\n"
      ],
      "metadata": {
        "colab": {
          "base_uri": "https://localhost:8080/",
          "height": 472
        },
        "id": "FK5uaP3_xBIw",
        "outputId": "69f2e001-e3fe-4b15-8ad4-cd081168d453"
      },
      "execution_count": 4,
      "outputs": [
        {
          "output_type": "display_data",
          "data": {
            "text/plain": [
              "<Figure size 640x480 with 1 Axes>"
            ],
            "image/png": "[encoded data removed]"
          },
          "metadata": {}
        }
      ]
    },
    {
      "cell_type": "markdown",
      "source": [
        "25.  Write a Python program to train a Gaussian Naïve Bayes classifier on the Breast Cancer dataset and\n",
        "evaluate accuracy."
      ],
      "metadata": {
        "id": "wAsx0ag8xHLK"
      }
    },
    {
      "cell_type": "code",
      "source": [
        "from sklearn.datasets import load_breast_cancer\n",
        "from sklearn.model_selection import train_test_split\n",
        "from sklearn.naive_bayes import GaussianNB\n",
        "from sklearn.metrics import accuracy_score\n",
        "\n",
        "# Load dataset\n",
        "data = load_breast_cancer()\n",
        "X, y = data.data, data.target\n",
        "\n",
        "# Split data\n",
        "X_train, X_test, y_train, y_test = train_test_split(X, y, test_size=0.2, random_state=42)\n",
        "\n",
        "# Train model\n",
        "model = GaussianNB()\n",
        "model.fit(X_train, y_train)\n",
        "\n",
        "# Predict and evaluate\n",
        "y_pred = model.predict(X_test)\n",
        "print(\"Gaussian Naïve Bayes Accuracy:\", accuracy_score(y_test, y_pred))\n"
      ],
      "metadata": {
        "colab": {
          "base_uri": "https://localhost:8080/"
        },
        "id": "EjsM2BnoxLqy",
        "outputId": "c3719745-9605-4292-a4a3-fd41b90eb09a"
      },
      "execution_count": 5,
      "outputs": [
        {
          "output_type": "stream",
          "name": "stdout",
          "text": [
            "Gaussian Naïve Bayes Accuracy: 0.9736842105263158\n"
          ]
        }
      ]
    },
    {
      "cell_type": "markdown",
      "source": [
        "26. Write a Python program to train a Multinomial Naïve Bayes classifier for text classification using the 20\n",
        "Newsgroups dataset."
      ],
      "metadata": {
        "id": "xhEUXtQNxPbn"
      }
    },
    {
      "cell_type": "code",
      "source": [
        "from sklearn.datasets import fetch_20newsgroups\n",
        "from sklearn.feature_extraction.text import CountVectorizer\n",
        "from sklearn.naive_bayes import MultinomialNB\n",
        "from sklearn.model_selection import train_test_split\n",
        "from sklearn.metrics import accuracy_score\n",
        "\n",
        "# Load dataset\n",
        "data = fetch_20newsgroups(subset='all')\n",
        "X, y = data.data, data.target\n",
        "\n",
        "# Convert text to feature vectors\n",
        "vectorizer = CountVectorizer(stop_words='english')\n",
        "X_vec = vectorizer.fit_transform(X)\n",
        "\n",
        "# Split data\n",
        "X_train, X_test, y_train, y_test = train_test_split(X_vec, y, test_size=0.2, random_state=42)\n",
        "\n",
        "# Train model\n",
        "model = MultinomialNB()\n",
        "model.fit(X_train, y_train)\n",
        "\n",
        "# Predict and evaluate\n",
        "y_pred = model.predict(X_test)\n",
        "print(\"Multinomial Naïve Bayes Accuracy on 20 Newsgroups:\", accuracy_score(y_test, y_pred))\n"
      ],
      "metadata": {
        "colab": {
          "base_uri": "https://localhost:8080/"
        },
        "id": "YRh4DU9Rxb3n",
        "outputId": "a24e4272-b10e-46f3-c860-9a4d899e6f81"
      },
      "execution_count": 6,
      "outputs": [
        {
          "output_type": "stream",
          "name": "stdout",
          "text": [
            "Multinomial Naïve Bayes Accuracy on 20 Newsgroups: 0.8742705570291777\n"
          ]
        }
      ]
    },
    {
      "cell_type": "markdown",
      "source": [
        "27. Write a Python program to train an SVM Classifier with different C values and compare the decision\n",
        "boundaries visually."
      ],
      "metadata": {
        "id": "6GEXeLBVxnFk"
      }
    },
    {
      "cell_type": "code",
      "source": [
        "import numpy as np\n",
        "import matplotlib.pyplot as plt\n",
        "from sklearn.svm import SVC\n",
        "from sklearn.datasets import make_classification\n",
        "\n",
        "# Generate synthetic dataset\n",
        "X, y = make_classification(n_samples=100, n_features=2, n_redundant=0,\n",
        "                           n_informative=2, n_clusters_per_class=1, random_state=42)\n",
        "\n",
        "# Different C values\n",
        "C_values = [0.1, 1, 10]\n",
        "plt.figure(figsize=(10, 3))\n",
        "\n",
        "for i, C in enumerate(C_values, 1):\n",
        "    model = SVC(kernel='linear', C=C)\n",
        "    model.fit(X, y)\n",
        "\n",
        "    # Plot decision boundary\n",
        "    plt.subplot(1, 3, i)\n",
        "    x_min, x_max = X[:, 0].min() - 1, X[:, 0].max() + 1\n",
        "    y_min, y_max = X[:, 1].min() - 1, X[:, 1].max() + 1\n",
        "    xx, yy = np.meshgrid(np.linspace(x_min, x_max, 200),\n",
        "                         np.linspace(y_min, y_max, 200))\n",
        "    Z = model.predict(np.c_[xx.ravel(), yy.ravel()]).reshape(xx.shape)\n",
        "\n",
        "    plt.contourf(xx, yy, Z, alpha=0.3)\n",
        "    plt.scatter(X[:, 0], X[:, 1], c=y, edgecolors='k', cmap=plt.cm.coolwarm)\n",
        "    plt.title(f\"SVM (C={C})\")\n",
        "\n",
        "plt.tight_layout()\n",
        "plt.show()\n"
      ],
      "metadata": {
        "colab": {
          "base_uri": "https://localhost:8080/",
          "height": 307
        },
        "id": "qRvVqOiax1oA",
        "outputId": "eb895f35-f8eb-45fd-e420-385270a4b118"
      },
      "execution_count": 7,
      "outputs": [
        {
          "output_type": "display_data",
          "data": {
            "text/plain": [
              "<Figure size 1000x300 with 3 Axes>"
            ],
            "image/png": "[encoded data removed]"
          },
          "metadata": {}
        }
      ]
    },
    {
      "cell_type": "markdown",
      "source": [
        "28. Write a Python program to train a Bernoulli Naïve Bayes classifier for binary classification on a dataset with\n",
        "binary features."
      ],
      "metadata": {
        "id": "E9RyAUDMx486"
      }
    },
    {
      "cell_type": "code",
      "source": [
        "from sklearn.naive_bayes import BernoulliNB\n",
        "from sklearn.model_selection import train_test_split\n",
        "from sklearn.metrics import accuracy_score\n",
        "from sklearn.datasets import make_classification\n",
        "\n",
        "# Create dataset with binary features\n",
        "X, y = make_classification(n_samples=200, n_features=10, n_informative=5,\n",
        "                           n_redundant=0, n_classes=2, random_state=42)\n",
        "X = (X > 0).astype(int)  # Convert features to binary\n",
        "\n",
        "# Split data\n",
        "X_train, X_test, y_train, y_test = train_test_split(X, y, test_size=0.2, random_state=42)\n",
        "\n",
        "# Train Bernoulli Naïve Bayes\n",
        "model = BernoulliNB()\n",
        "model.fit(X_train, y_train)\n",
        "\n",
        "# Predict and evaluate\n",
        "y_pred = model.predict(X_test)\n",
        "print(\"Bernoulli Naïve Bayes Accuracy:\", accuracy_score(y_test, y_pred))\n"
      ],
      "metadata": {
        "colab": {
          "base_uri": "https://localhost:8080/"
        },
        "id": "1C57sH32x-kc",
        "outputId": "cbd7c1c3-f93f-40d0-9f7a-caa66e6ef0d8"
      },
      "execution_count": 9,
      "outputs": [
        {
          "output_type": "stream",
          "name": "stdout",
          "text": [
            "Bernoulli Naïve Bayes Accuracy: 0.575\n"
          ]
        }
      ]
    },
    {
      "cell_type": "markdown",
      "source": [
        "29. Write a Python program to apply feature scaling before training an SVM model and compare results with\n",
        "unscaled data."
      ],
      "metadata": {
        "id": "WiCX4yVOyvIs"
      }
    },
    {
      "cell_type": "code",
      "source": [
        "from sklearn.datasets import load_wine\n",
        "from sklearn.model_selection import train_test_split\n",
        "from sklearn.preprocessing import StandardScaler\n",
        "from sklearn.svm import SVC\n",
        "from sklearn.metrics import accuracy_score\n",
        "\n",
        "# Load dataset\n",
        "X, y = load_wine(return_X_y=True)\n",
        "X_train, X_test, y_train, y_test = train_test_split(X, y, test_size=0.2, random_state=42)\n",
        "\n",
        "# Without scaling\n",
        "model_unscaled = SVC(kernel='rbf')\n",
        "model_unscaled.fit(X_train, y_train)\n",
        "acc_unscaled = accuracy_score(y_test, model_unscaled.predict(X_test))\n",
        "\n",
        "# With scaling\n",
        "scaler = StandardScaler()\n",
        "X_train_scaled = scaler.fit_transform(X_train)\n",
        "X_test_scaled = scaler.transform(X_test)\n",
        "\n",
        "model_scaled = SVC(kernel='rbf')\n",
        "model_scaled.fit(X_train_scaled, y_train)\n",
        "acc_scaled = accuracy_score(y_test, model_scaled.predict(X_test))\n",
        "\n",
        "print(\"Accuracy without scaling:\", acc_unscaled)\n",
        "print(\"Accuracy with scaling:\", acc_scaled)\n"
      ],
      "metadata": {
        "colab": {
          "base_uri": "https://localhost:8080/"
        },
        "id": "zW2DmfrMy1Lh",
        "outputId": "a30eccd4-fd56-471d-93be-24297e23eddf"
      },
      "execution_count": 10,
      "outputs": [
        {
          "output_type": "stream",
          "name": "stdout",
          "text": [
            "Accuracy without scaling: 0.8055555555555556\n",
            "Accuracy with scaling: 0.3888888888888889\n"
          ]
        }
      ]
    },
    {
      "cell_type": "markdown",
      "source": [
        "30. Write a Python program to train a Gaussian Naïve Bayes model and compare the predictions before and\n",
        "after Laplace Smoothing=."
      ],
      "metadata": {
        "id": "QAj2GVUCy8S4"
      }
    },
    {
      "cell_type": "code",
      "source": [
        "import numpy as np\n",
        "from sklearn.datasets import load_breast_cancer\n",
        "from sklearn.model_selection import train_test_split\n",
        "from sklearn.naive_bayes import GaussianNB\n",
        "from sklearn.metrics import accuracy_score\n",
        "\n",
        "# Load dataset\n",
        "data = load_breast_cancer()\n",
        "X_train, X_test, y_train, y_test = train_test_split(data.data, data.target, test_size=0.2, random_state=42)\n",
        "\n",
        "# Gaussian Naïve Bayes (default)\n",
        "model1 = GaussianNB()\n",
        "model1.fit(X_train, y_train)\n",
        "pred1 = model1.predict(X_test)\n",
        "acc1 = accuracy_score(y_test, pred1)\n",
        "\n",
        "# Gaussian Naïve Bayes with Laplace Smoothing (var_smoothing parameter)\n",
        "model2 = GaussianNB(var_smoothing=1e-6)\n",
        "model2.fit(X_train, y_train)\n",
        "pred2 = model2.predict(X_test)\n",
        "acc2 = accuracy_score(y_test, pred2)\n",
        "\n",
        "print(\"Accuracy without Laplace Smoothing:\", acc1)\n",
        "print(\"Accuracy with Laplace Smoothing:\", acc2)\n"
      ],
      "metadata": {
        "colab": {
          "base_uri": "https://localhost:8080/"
        },
        "id": "nMFXToO_zAtk",
        "outputId": "c5715c6a-2655-46c6-9be4-7d22f4ffd943"
      },
      "execution_count": 11,
      "outputs": [
        {
          "output_type": "stream",
          "name": "stdout",
          "text": [
            "Accuracy without Laplace Smoothing: 0.9736842105263158\n",
            "Accuracy with Laplace Smoothing: 0.956140350877193\n"
          ]
        }
      ]
    },
    {
      "cell_type": "markdown",
      "source": [
        "31. Write a Python program to train an SVM Classifier and use GridSearchCV to tune the hyperparameters (C,\n",
        "gamma, kernel)."
      ],
      "metadata": {
        "id": "UjuXuvMFzJpE"
      }
    },
    {
      "cell_type": "code",
      "source": [
        "from sklearn import datasets\n",
        "from sklearn.model_selection import GridSearchCV, train_test_split\n",
        "from sklearn.svm import SVC\n",
        "from sklearn.metrics import accuracy_score\n",
        "\n",
        "# Load dataset\n",
        "iris = datasets.load_iris()\n",
        "X, y = iris.data, iris.target\n",
        "\n",
        "# Split data\n",
        "X_train, X_test, y_train, y_test = train_test_split(X, y, test_size=0.2, random_state=42)\n",
        "\n",
        "# Define parameter grid\n",
        "param_grid = {'C': [0.1, 1, 10], 'gamma': ['scale', 0.1, 1], 'kernel': ['linear', 'rbf', 'poly']}\n",
        "\n",
        "# GridSearchCV\n",
        "grid = GridSearchCV(SVC(), param_grid, cv=5)\n",
        "grid.fit(X_train, y_train)\n",
        "\n",
        "# Evaluate\n",
        "print(\"Best Parameters:\", grid.best_params_)\n",
        "y_pred = grid.predict(X_test)\n",
        "print(\"Accuracy:\", accuracy_score(y_test, y_pred))\n"
      ],
      "metadata": {
        "colab": {
          "base_uri": "https://localhost:8080/"
        },
        "id": "-AT-NQkSznXm",
        "outputId": "4666798d-b7f5-4d2c-c8ee-538ec79f0bf2"
      },
      "execution_count": 12,
      "outputs": [
        {
          "output_type": "stream",
          "name": "stdout",
          "text": [
            "Best Parameters: {'C': 0.1, 'gamma': 0.1, 'kernel': 'poly'}\n",
            "Accuracy: 1.0\n"
          ]
        }
      ]
    },
    {
      "cell_type": "markdown",
      "source": [
        "32. Write a Python program to train an SVM Classifier on an imbalanced dataset and apply class weighting and\n",
        "check it improve accuracy."
      ],
      "metadata": {
        "id": "5cb5sIpdztG5"
      }
    },
    {
      "cell_type": "code",
      "source": [
        "from sklearn.datasets import make_classification\n",
        "from sklearn.model_selection import train_test_split\n",
        "from sklearn.svm import SVC\n",
        "from sklearn.metrics import accuracy_score, classification_report\n",
        "\n",
        "# Create imbalanced dataset\n",
        "X, y = make_classification(n_samples=1000, n_features=10, weights=[0.9, 0.1], random_state=42)\n",
        "\n",
        "# Split\n",
        "X_train, X_test, y_train, y_test = train_test_split(X, y, test_size=0.2, random_state=42)\n",
        "\n",
        "# Without class weight\n",
        "model1 = SVC()\n",
        "model1.fit(X_train, y_train)\n",
        "pred1 = model1.predict(X_test)\n",
        "\n",
        "# With class weight\n",
        "model2 = SVC(class_weight='balanced')\n",
        "model2.fit(X_train, y_train)\n",
        "pred2 = model2.predict(X_test)\n",
        "\n",
        "print(\"Without Class Weight Accuracy:\", accuracy_score(y_test, pred1))\n",
        "print(\"With Class Weight Accuracy:\", accuracy_score(y_test, pred2))\n",
        "print(\"\\nImprovement Report:\\n\", classification_report(y_test, pred2))\n"
      ],
      "metadata": {
        "colab": {
          "base_uri": "https://localhost:8080/"
        },
        "id": "Crm1MWxBz0cN",
        "outputId": "37e44be5-dd83-4c16-a2bb-4190236df7af"
      },
      "execution_count": 13,
      "outputs": [
        {
          "output_type": "stream",
          "name": "stdout",
          "text": [
            "Without Class Weight Accuracy: 0.92\n",
            "With Class Weight Accuracy: 0.89\n",
            "\n",
            "Improvement Report:\n",
            "               precision    recall  f1-score   support\n",
            "\n",
            "           0       0.96      0.91      0.94       175\n",
            "           1       0.54      0.76      0.63        25\n",
            "\n",
            "    accuracy                           0.89       200\n",
            "   macro avg       0.75      0.83      0.78       200\n",
            "weighted avg       0.91      0.89      0.90       200\n",
            "\n"
          ]
        }
      ]
    },
    {
      "cell_type": "markdown",
      "source": [
        "33. Write a Python program to implement a Naïve Bayes classifier for spam detection using email data."
      ],
      "metadata": {
        "id": "wPFe-UgEz50R"
      }
    },
    {
      "cell_type": "code",
      "source": [
        "from sklearn.model_selection import train_test_split\n",
        "from sklearn.feature_extraction.text import CountVectorizer\n",
        "from sklearn.naive_bayes import MultinomialNB\n",
        "from sklearn.metrics import accuracy_score\n",
        "\n",
        "# Sample dataset\n",
        "emails = [\"Win money now\", \"Hello friend\", \"Claim your free prize\", \"Meeting at 5pm\", \"Earn cash instantly\"]\n",
        "labels = [1, 0, 1, 0, 1]  # 1 = Spam, 0 = Not Spam\n",
        "\n",
        "# Vectorize text\n",
        "vectorizer = CountVectorizer()\n",
        "X = vectorizer.fit_transform(emails)\n",
        "\n",
        "# Split\n",
        "X_train, X_test, y_train, y_test = train_test_split(X, labels, test_size=0.2, random_state=42)\n",
        "\n",
        "# Train Naive Bayes\n",
        "model = MultinomialNB()\n",
        "model.fit(X_train, y_train)\n",
        "pred = model.predict(X_test)\n",
        "\n",
        "print(\"Accuracy:\", accuracy_score(y_test, pred))\n"
      ],
      "metadata": {
        "colab": {
          "base_uri": "https://localhost:8080/"
        },
        "id": "mJg6u7Jyz_KX",
        "outputId": "9c2ea975-cf10-410d-f29f-14bac5753d7e"
      },
      "execution_count": 14,
      "outputs": [
        {
          "output_type": "stream",
          "name": "stdout",
          "text": [
            "Accuracy: 0.0\n"
          ]
        }
      ]
    },
    {
      "cell_type": "markdown",
      "source": [
        "34. Write a Python program to train an SVM Classifier and a Naïve Bayes Classifier on the same dataset and\n",
        "compare their accuracy."
      ],
      "metadata": {
        "id": "ndl1770K0F77"
      }
    },
    {
      "cell_type": "code",
      "source": [
        "from sklearn.datasets import load_iris\n",
        "from sklearn.model_selection import train_test_split\n",
        "from sklearn.svm import SVC\n",
        "from sklearn.naive_bayes import GaussianNB\n",
        "from sklearn.metrics import accuracy_score\n",
        "\n",
        "# Load dataset\n",
        "iris = load_iris()\n",
        "X_train, X_test, y_train, y_test = train_test_split(iris.data, iris.target, test_size=0.3, random_state=42)\n",
        "\n",
        "# SVM\n",
        "svm = SVC(kernel='rbf')\n",
        "svm.fit(X_train, y_train)\n",
        "svm_pred = svm.predict(X_test)\n",
        "\n",
        "# Naive Bayes\n",
        "nb = GaussianNB()\n",
        "nb.fit(X_train, y_train)\n",
        "nb_pred = nb.predict(X_test)\n",
        "\n",
        "print(\"SVM Accuracy:\", accuracy_score(y_test, svm_pred))\n",
        "print(\"Naive Bayes Accuracy:\", accuracy_score(y_test, nb_pred))\n"
      ],
      "metadata": {
        "colab": {
          "base_uri": "https://localhost:8080/"
        },
        "id": "-k89XGFN0K2V",
        "outputId": "72f5d41b-91ff-4008-8526-a470716801cb"
      },
      "execution_count": 15,
      "outputs": [
        {
          "output_type": "stream",
          "name": "stdout",
          "text": [
            "SVM Accuracy: 1.0\n",
            "Naive Bayes Accuracy: 0.9777777777777777\n"
          ]
        }
      ]
    },
    {
      "cell_type": "markdown",
      "source": [
        "35. Write a Python program to perform feature selection before training a Naïve Bayes classifier and compare\n",
        "results."
      ],
      "metadata": {
        "id": "830cs5V30Q0d"
      }
    },
    {
      "cell_type": "code",
      "source": [
        "from sklearn.datasets import load_wine\n",
        "from sklearn.model_selection import train_test_split\n",
        "from sklearn.naive_bayes import GaussianNB\n",
        "from sklearn.feature_selection import SelectKBest, f_classif\n",
        "from sklearn.metrics import accuracy_score\n",
        "\n",
        "# Load dataset\n",
        "wine = load_wine()\n",
        "X, y = wine.data, wine.target\n",
        "\n",
        "# Split data\n",
        "X_train, X_test, y_train, y_test = train_test_split(X, y, test_size=0.3, random_state=42)\n",
        "\n",
        "# Without feature selection\n",
        "nb1 = GaussianNB()\n",
        "nb1.fit(X_train, y_train)\n",
        "pred1 = nb1.predict(X_test)\n",
        "acc1 = accuracy_score(y_test, pred1)\n",
        "\n",
        "# Feature selection\n",
        "selector = SelectKBest(f_classif, k=5)\n",
        "X_train_fs = selector.fit_transform(X_train, y_train)\n",
        "X_test_fs = selector.transform(X_test)\n",
        "\n",
        "# Train with selected features\n",
        "nb2 = GaussianNB()\n",
        "nb2.fit(X_train_fs, y_train)\n",
        "pred2 = nb2.predict(X_test_fs)\n",
        "acc2 = accuracy_score(y_test, pred2)\n",
        "\n",
        "print(\"Without Feature Selection Accuracy:\", acc1)\n",
        "print(\"With Feature Selection Accuracy:\", acc2)\n"
      ],
      "metadata": {
        "colab": {
          "base_uri": "https://localhost:8080/"
        },
        "id": "pWWYBN0D0Xal",
        "outputId": "7253caf3-83d5-46a3-d300-6dc99cc60dca"
      },
      "execution_count": 16,
      "outputs": [
        {
          "output_type": "stream",
          "name": "stdout",
          "text": [
            "Without Feature Selection Accuracy: 1.0\n",
            "With Feature Selection Accuracy: 0.9444444444444444\n"
          ]
        }
      ]
    },
    {
      "cell_type": "markdown",
      "source": [
        "36. Write a Python program to train an SVM Classifier using One-vs-Rest (OvR) and One-vs-One (OvO)\n",
        "strategies on the Wine dataset and compare their accuracy."
      ],
      "metadata": {
        "id": "wYOeJiy20bvC"
      }
    },
    {
      "cell_type": "code",
      "source": [
        "from sklearn.datasets import load_wine\n",
        "from sklearn.model_selection import train_test_split\n",
        "from sklearn.svm import SVC\n",
        "from sklearn.multiclass import OneVsRestClassifier, OneVsOneClassifier\n",
        "from sklearn.metrics import accuracy_score\n",
        "\n",
        "# Load dataset\n",
        "wine = load_wine()\n",
        "X_train, X_test, y_train, y_test = train_test_split(wine.data, wine.target, test_size=0.3, random_state=42)\n",
        "\n",
        "# One-vs-Rest\n",
        "ovr_model = OneVsRestClassifier(SVC(kernel='rbf'))\n",
        "ovr_model.fit(X_train, y_train)\n",
        "ovr_pred = ovr_model.predict(X_test)\n",
        "\n",
        "# One-vs-One\n",
        "ovo_model = OneVsOneClassifier(SVC(kernel='rbf'))\n",
        "ovo_model.fit(X_train, y_train)\n",
        "ovo_pred = ovo_model.predict(X_test)\n",
        "\n",
        "# Accuracy comparison\n",
        "print(\"One-vs-Rest Accuracy:\", accuracy_score(y_test, ovr_pred))\n",
        "print(\"One-vs-One Accuracy:\", accuracy_score(y_test, ovo_pred))\n"
      ],
      "metadata": {
        "colab": {
          "base_uri": "https://localhost:8080/"
        },
        "id": "sHMxT9Ex0uOQ",
        "outputId": "fbe48c0d-030b-4fb7-9373-5e3c3968a37d"
      },
      "execution_count": 18,
      "outputs": [
        {
          "output_type": "stream",
          "name": "stdout",
          "text": [
            "One-vs-Rest Accuracy: 0.7222222222222222\n",
            "One-vs-One Accuracy: 0.7962962962962963\n"
          ]
        }
      ]
    },
    {
      "cell_type": "markdown",
      "source": [
        "37. Write a Python program to train an SVM Classifier using Linear, Polynomial, and RBF kernels on the Breast\n",
        "Cancer dataset and compare their accuracy."
      ],
      "metadata": {
        "id": "rpUGoYzr0xG5"
      }
    },
    {
      "cell_type": "code",
      "source": [
        "from sklearn.datasets import load_iris\n",
        "from sklearn.svm import SVC\n",
        "from sklearn.model_selection import StratifiedKFold, cross_val_score\n",
        "\n",
        "# Load dataset\n",
        "iris = load_iris()\n",
        "X, y = iris.data, iris.target\n",
        "\n",
        "# Stratified K-Fold Cross Validation\n",
        "skf = StratifiedKFold(n_splits=5, shuffle=True, random_state=42)\n",
        "model = SVC(kernel='rbf', C=1)\n",
        "\n",
        "# Compute average accuracy\n",
        "scores = cross_val_score(model, X, y, cv=skf)\n",
        "print(\"Cross-Validation Accuracies:\", scores)\n",
        "print(\"Average Accuracy:\", scores.mean())\n"
      ],
      "metadata": {
        "colab": {
          "base_uri": "https://localhost:8080/"
        },
        "id": "N0oatM7L02uN",
        "outputId": "2ebddd97-063f-4df7-c9d8-5ecc75681557"
      },
      "execution_count": 19,
      "outputs": [
        {
          "output_type": "stream",
          "name": "stdout",
          "text": [
            "Cross-Validation Accuracies: [1.         0.96666667 0.93333333 1.         0.93333333]\n",
            "Average Accuracy: 0.9666666666666668\n"
          ]
        }
      ]
    },
    {
      "cell_type": "markdown",
      "source": [
        "38.  Write a Python program to train an SVM Classifier using Stratified K-Fold Cross-Validation and compute the\n",
        "average accuracy."
      ],
      "metadata": {
        "id": "QxOlsVgu1Eg4"
      }
    },
    {
      "cell_type": "code",
      "source": [
        "from sklearn.datasets import load_iris\n",
        "from sklearn.model_selection import train_test_split\n",
        "from sklearn.naive_bayes import GaussianNB\n",
        "from sklearn.metrics import accuracy_score\n",
        "\n",
        "# Load dataset\n",
        "iris = load_iris()\n",
        "X_train, X_test, y_train, y_test = train_test_split(iris.data, iris.target, test_size=0.3, random_state=42)\n",
        "\n",
        "# Default priors\n",
        "nb_default = GaussianNB()\n",
        "nb_default.fit(X_train, y_train)\n",
        "pred_default = nb_default.predict(X_test)\n",
        "\n",
        "# Custom priors\n",
        "nb_custom = GaussianNB(priors=[0.2, 0.5, 0.3])\n",
        "nb_custom.fit(X_train, y_train)\n",
        "pred_custom = nb_custom.predict(X_test)\n",
        "\n",
        "print(\"Default Priors Accuracy:\", accuracy_score(y_test, pred_default))\n",
        "print(\"Custom Priors Accuracy:\", accuracy_score(y_test, pred_custom))\n"
      ],
      "metadata": {
        "id": "XIT_w3TI1I_C",
        "outputId": "bb03fa75-09ea-40a2-d91b-d5b29198eba8",
        "colab": {
          "base_uri": "https://localhost:8080/"
        }
      },
      "execution_count": 20,
      "outputs": [
        {
          "output_type": "stream",
          "name": "stdout",
          "text": [
            "Default Priors Accuracy: 0.9777777777777777\n",
            "Custom Priors Accuracy: 1.0\n"
          ]
        }
      ]
    },
    {
      "cell_type": "markdown",
      "source": [
        "39. Write a Python program to train a Naïve Bayes classifier using different prior probabilities and compare\n",
        "performance."
      ],
      "metadata": {
        "id": "DDJPFhfa1Nnx"
      }
    },
    {
      "cell_type": "code",
      "source": [
        "from sklearn.datasets import load_breast_cancer\n",
        "from sklearn.model_selection import train_test_split\n",
        "from sklearn.svm import SVC\n",
        "from sklearn.metrics import accuracy_score\n",
        "\n",
        "# Load dataset\n",
        "data = load_breast_cancer()\n",
        "X_train, X_test, y_train, y_test = train_test_split(data.data, data.target, test_size=0.3, random_state=42)\n",
        "\n",
        "# Different kernels\n",
        "kernels = ['linear', 'poly', 'rbf']\n",
        "for kernel in kernels:\n",
        "    model = SVC(kernel=kernel)\n",
        "    model.fit(X_train, y_train)\n",
        "    pred = model.predict(X_test)\n",
        "    print(f\"Kernel: {kernel}, Accuracy: {accuracy_score(y_test, pred)}\")\n"
      ],
      "metadata": {
        "id": "HjC_SPwW1Ry8",
        "outputId": "c26ee5f0-ff36-424b-d1ad-d251e4b2f126",
        "colab": {
          "base_uri": "https://localhost:8080/"
        }
      },
      "execution_count": 21,
      "outputs": [
        {
          "output_type": "stream",
          "name": "stdout",
          "text": [
            "Kernel: linear, Accuracy: 0.9649122807017544\n",
            "Kernel: poly, Accuracy: 0.9415204678362573\n",
            "Kernel: rbf, Accuracy: 0.935672514619883\n"
          ]
        }
      ]
    },
    {
      "cell_type": "markdown",
      "source": [
        "40. Write a Python program to perform Recursive Feature Elimination (RFE) before training an SVM Classifier and\n",
        "compare accuracy."
      ],
      "metadata": {
        "id": "zjNLaxwP1Vg0"
      }
    },
    {
      "cell_type": "code",
      "source": [
        "from sklearn.datasets import load_wine\n",
        "from sklearn.model_selection import train_test_split\n",
        "from sklearn.svm import SVC\n",
        "from sklearn.feature_selection import RFE\n",
        "from sklearn.metrics import accuracy_score\n",
        "\n",
        "# Load dataset\n",
        "wine = load_wine()\n",
        "X_train, X_test, y_train, y_test = train_test_split(wine.data, wine.target, test_size=0.3, random_state=42)\n",
        "\n",
        "# SVM before RFE\n",
        "model = SVC(kernel='linear')\n",
        "model.fit(X_train, y_train)\n",
        "pred1 = model.predict(X_test)\n",
        "acc_before = accuracy_score(y_test, pred1)\n",
        "\n",
        "# RFE Feature Selection\n",
        "selector = RFE(model, n_features_to_select=5)\n",
        "selector.fit(X_train, y_train)\n",
        "X_train_rfe = selector.transform(X_train)\n",
        "X_test_rfe = selector.transform(X_test)\n",
        "\n",
        "# Train again after RFE\n",
        "model.fit(X_train_rfe, y_train)\n",
        "pred2 = model.predict(X_test_rfe)\n",
        "acc_after = accuracy_score(y_test, pred2)\n",
        "\n",
        "print(\"Accuracy before RFE:\", acc_before)\n",
        "print(\"Accuracy after RFE:\", acc_after)\n"
      ],
      "metadata": {
        "id": "VSHfmJQm1bMQ",
        "outputId": "0cc2e194-b2eb-483e-e37a-8ad138cfab75",
        "colab": {
          "base_uri": "https://localhost:8080/"
        }
      },
      "execution_count": 22,
      "outputs": [
        {
          "output_type": "stream",
          "name": "stdout",
          "text": [
            "Accuracy before RFE: 0.9814814814814815\n",
            "Accuracy after RFE: 0.9629629629629629\n"
          ]
        }
      ]
    },
    {
      "cell_type": "markdown",
      "source": [
        "41. Write a Python program to train an SVM Classifier and evaluate its performance using Precision, Recall, and\n",
        "F1-Score instead of accuracy."
      ],
      "metadata": {
        "id": "ErlluDSn1ko3"
      }
    },
    {
      "cell_type": "code",
      "source": [
        "from sklearn.datasets import load_iris\n",
        "from sklearn.model_selection import train_test_split\n",
        "from sklearn.svm import SVC\n",
        "from sklearn.metrics import classification_report\n",
        "\n",
        "# Load dataset\n",
        "iris = load_iris()\n",
        "X_train, X_test, y_train, y_test = train_test_split(iris.data, iris.target, test_size=0.3, random_state=42)\n",
        "\n",
        "# Train SVM\n",
        "model = SVC(kernel='rbf')\n",
        "model.fit(X_train, y_train)\n",
        "\n",
        "# Predict and evaluate\n",
        "y_pred = model.predict(X_test)\n",
        "print(\"Classification Report (Precision, Recall, F1-Score):\\n\")\n",
        "print(classification_report(y_test, y_pred))\n"
      ],
      "metadata": {
        "id": "bGhXzoIf155n",
        "outputId": "21f6ecfb-c6a3-4a54-8263-6d644f9bab77",
        "colab": {
          "base_uri": "https://localhost:8080/"
        }
      },
      "execution_count": 23,
      "outputs": [
        {
          "output_type": "stream",
          "name": "stdout",
          "text": [
            "Classification Report (Precision, Recall, F1-Score):\n",
            "\n",
            "              precision    recall  f1-score   support\n",
            "\n",
            "           0       1.00      1.00      1.00        19\n",
            "           1       1.00      1.00      1.00        13\n",
            "           2       1.00      1.00      1.00        13\n",
            "\n",
            "    accuracy                           1.00        45\n",
            "   macro avg       1.00      1.00      1.00        45\n",
            "weighted avg       1.00      1.00      1.00        45\n",
            "\n"
          ]
        }
      ]
    },
    {
      "cell_type": "markdown",
      "source": [
        "42. Write a Python program to train a Naïve Bayes Classifier and evaluate its performance using Log Loss\n",
        "(Cross-Entropy Loss)."
      ],
      "metadata": {
        "id": "lRmIUtpf19V1"
      }
    },
    {
      "cell_type": "code",
      "source": [
        "from sklearn.datasets import load_iris\n",
        "from sklearn.model_selection import train_test_split\n",
        "from sklearn.naive_bayes import GaussianNB\n",
        "from sklearn.metrics import log_loss\n",
        "\n",
        "# Load dataset\n",
        "iris = load_iris()\n",
        "X_train, X_test, y_train, y_test = train_test_split(iris.data, iris.target, test_size=0.3, random_state=42)\n",
        "\n",
        "# Train Naive Bayes\n",
        "model = GaussianNB()\n",
        "model.fit(X_train, y_train)\n",
        "\n",
        "# Predict probabilities and compute log loss\n",
        "y_prob = model.predict_proba(X_test)\n",
        "loss = log_loss(y_test, y_prob)\n",
        "print(\"Log Loss (Cross-Entropy):\", loss)\n"
      ],
      "metadata": {
        "id": "WWDAPjea2De7",
        "outputId": "f4f33ed2-978d-4dbd-f863-631d2abeecac",
        "colab": {
          "base_uri": "https://localhost:8080/"
        }
      },
      "execution_count": 24,
      "outputs": [
        {
          "output_type": "stream",
          "name": "stdout",
          "text": [
            "Log Loss (Cross-Entropy): 0.04896447467183247\n"
          ]
        }
      ]
    },
    {
      "cell_type": "markdown",
      "source": [
        "43. Write a Python program to train an SVM Classifier and visualize the Confusion Matrix using seaborn."
      ],
      "metadata": {
        "id": "TpIqH3kr2HcQ"
      }
    },
    {
      "cell_type": "code",
      "source": [
        "import seaborn as sns\n",
        "import matplotlib.pyplot as plt\n",
        "from sklearn.datasets import load_iris\n",
        "from sklearn.model_selection import train_test_split\n",
        "from sklearn.svm import SVC\n",
        "from sklearn.metrics import confusion_matrix\n",
        "\n",
        "# Load dataset\n",
        "iris = load_iris()\n",
        "X_train, X_test, y_train, y_test = train_test_split(iris.data, iris.target, test_size=0.3, random_state=42)\n",
        "\n",
        "# Train SVM\n",
        "model = SVC(kernel='rbf')\n",
        "model.fit(X_train, y_train)\n",
        "y_pred = model.predict(X_test)\n",
        "\n",
        "# Confusion matrix\n",
        "cm = confusion_matrix(y_test, y_pred)\n",
        "sns.heatmap(cm, annot=True, fmt='d', cmap='Blues')\n",
        "plt.title(\"Confusion Matrix\")\n",
        "plt.xlabel(\"Predicted\")\n",
        "plt.ylabel(\"Actual\")\n",
        "plt.show()\n"
      ],
      "metadata": {
        "id": "tvn8jjGo2MwR",
        "outputId": "fa623a93-0c15-4d89-9226-334b8be46079",
        "colab": {
          "base_uri": "https://localhost:8080/",
          "height": 472
        }
      },
      "execution_count": 25,
      "outputs": [
        {
          "output_type": "display_data",
          "data": {
            "text/plain": [
              "<Figure size 640x480 with 2 Axes>"
            ],
            "image/png": "[encoded data removed]"
          },
          "metadata": {}
        }
      ]
    },
    {
      "cell_type": "markdown",
      "source": [
        "44. Write a Python program to train an SVM Regressor (SVR) and evaluate its performance using Mean Absolute\n",
        "Error (MAE) instead of MSE."
      ],
      "metadata": {
        "id": "HrxUalgD2RJ9"
      }
    },
    {
      "cell_type": "code",
      "source": [
        "from sklearn.datasets import fetch_california_housing\n",
        "from sklearn.model_selection import train_test_split\n",
        "from sklearn.svm import SVR\n",
        "from sklearn.metrics import mean_absolute_error\n",
        "\n",
        "# Load dataset\n",
        "housing = fetch_california_housing()\n",
        "X_train, X_test, y_train, y_test = train_test_split(housing.data, housing.target, test_size=0.2, random_state=42)\n",
        "\n",
        "# Train SVR\n",
        "model = SVR(kernel='rbf')\n",
        "model.fit(X_train, y_train)\n",
        "\n",
        "# Predict and evaluate\n",
        "y_pred = model.predict(X_test)\n",
        "mae = mean_absolute_error(y_test, y_pred)\n",
        "print(\"Mean Absolute Error (SVR):\", mae)\n"
      ],
      "metadata": {
        "id": "F9yUiGO12XQy",
        "outputId": "d31be8c3-cc32-4e82-e885-90bcf0b4a536",
        "colab": {
          "base_uri": "https://localhost:8080/"
        }
      },
      "execution_count": 26,
      "outputs": [
        {
          "output_type": "stream",
          "name": "stdout",
          "text": [
            "Mean Absolute Error (SVR): 0.8599506583445761\n"
          ]
        }
      ]
    },
    {
      "cell_type": "markdown",
      "source": [
        "45. Write a Python program to train a Naïve Bayes classifier and evaluate its performance using the ROC-AUC\n",
        "score."
      ],
      "metadata": {
        "id": "oXcQ0StK2f44"
      }
    },
    {
      "cell_type": "code",
      "source": [
        "from sklearn.datasets import load_breast_cancer\n",
        "from sklearn.model_selection import train_test_split\n",
        "from sklearn.naive_bayes import GaussianNB\n",
        "from sklearn.metrics import roc_auc_score\n",
        "\n",
        "# Load dataset\n",
        "data = load_breast_cancer()\n",
        "X_train, X_test, y_train, y_test = train_test_split(data.data, data.target, test_size=0.3, random_state=42)\n",
        "\n",
        "# Train Naive Bayes\n",
        "model = GaussianNB()\n",
        "model.fit(X_train, y_train)\n",
        "\n",
        "# Predict probabilities for ROC-AUC\n",
        "y_prob = model.predict_proba(X_test)[:, 1]\n",
        "roc_auc = roc_auc_score(y_test, y_prob)\n",
        "print(\"ROC-AUC Score:\", roc_auc)\n"
      ],
      "metadata": {
        "id": "B08I0vyj2ogn",
        "outputId": "d0dcb7d4-9625-4104-a17d-32ac56c61590",
        "colab": {
          "base_uri": "https://localhost:8080/"
        }
      },
      "execution_count": 27,
      "outputs": [
        {
          "output_type": "stream",
          "name": "stdout",
          "text": [
            "ROC-AUC Score: 0.9922104644326867\n"
          ]
        }
      ]
    },
    {
      "cell_type": "markdown",
      "source": [
        "46. Write a Python program to train an SVM Classifier and visualize the Precision-Recall Curve."
      ],
      "metadata": {
        "id": "4sfPYavD2rrX"
      }
    },
    {
      "cell_type": "code",
      "source": [
        "import matplotlib.pyplot as plt\n",
        "from sklearn.datasets import load_breast_cancer\n",
        "from sklearn.model_selection import train_test_split\n",
        "from sklearn.svm import SVC\n",
        "from sklearn.metrics import precision_recall_curve, average_precision_score\n",
        "\n",
        "# Load dataset\n",
        "data = load_breast_cancer()\n",
        "X_train, X_test, y_train, y_test = train_test_split(data.data, data.target, test_size=0.3, random_state=42)\n",
        "\n",
        "# Train SVM with probability estimates\n",
        "model = SVC(kernel='rbf', probability=True)\n",
        "model.fit(X_train, y_train)\n",
        "\n",
        "# Predict probabilities\n",
        "y_prob = model.predict_proba(X_test)[:, 1]\n",
        "\n",
        "# Precision-Recall curve\n",
        "precision, recall, thresholds = precision_recall_curve(y_test, y_prob)\n",
        "avg_precision = average_precision_score(y_test, y_prob)\n",
        "\n",
        "plt.plot(recall, precision, label=f'Avg Precision={avg_precision:.2f}')\n",
        "plt.xlabel('Recall')\n",
        "plt.ylabel('Precision')\n",
        "plt.title('Precision-Recall Curve')\n",
        "plt.legend()\n",
        "plt.show()\n"
      ],
      "metadata": {
        "id": "Mm2Jhx5A22vz",
        "outputId": "d0c581ce-b43e-47d9-b80d-51a8acece444",
        "colab": {
          "base_uri": "https://localhost:8080/",
          "height": 472
        }
      },
      "execution_count": 28,
      "outputs": [
        {
          "output_type": "display_data",
          "data": {
            "text/plain": [
              "<Figure size 640x480 with 1 Axes>"
            ],
            "image/png": "[encoded data removed]"
          },
          "metadata": {}
        }
      ]
    }
  ]
}